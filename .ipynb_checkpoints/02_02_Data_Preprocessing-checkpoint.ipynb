{
 "cells": [
  {
   "cell_type": "markdown",
   "id": "5122bac9",
   "metadata": {},
   "source": [
    "# Data Preprocessing 데이터 전처리"
   ]
  },
  {
   "cell_type": "markdown",
   "id": "8bfbcac2",
   "metadata": {},
   "source": [
    "## Data Collection"
   ]
  },
  {
   "cell_type": "code",
   "execution_count": 1,
   "id": "e7afdae5",
   "metadata": {},
   "outputs": [],
   "source": [
    "fish_length = [25.4, 26.3, 26.5, 29.0, 29.0, 29.7, 29.7, 30.0, 30.0, 30.7, 31.0, 31.0, \n",
    "                31.5, 32.0, 32.0, 32.0, 33.0, 33.0, 33.5, 33.5, 34.0, 34.0, 34.5, 35.0, \n",
    "                35.0, 35.0, 35.0, 36.0, 36.0, 37.0, 38.5, 38.5, 39.5, 41.0, 41.0, 9.8, \n",
    "                10.5, 10.6, 11.0, 11.2, 11.3, 11.8, 11.8, 12.0, 12.2, 12.4, 13.0, 14.3, 15.0]\n",
    "fish_weight = [242.0, 290.0, 340.0, 363.0, 430.0, 450.0, 500.0, 390.0, 450.0, 500.0, 475.0, 500.0, \n",
    "                500.0, 340.0, 600.0, 600.0, 700.0, 700.0, 610.0, 650.0, 575.0, 685.0, 620.0, 680.0, \n",
    "                700.0, 725.0, 720.0, 714.0, 850.0, 1000.0, 920.0, 955.0, 925.0, 975.0, 950.0, 6.7, \n",
    "                7.5, 7.0, 9.7, 9.8, 8.7, 10.0, 9.9, 9.8, 12.2, 13.4, 12.2, 19.7, 19.9]"
   ]
  },
  {
   "cell_type": "code",
   "execution_count": 2,
   "id": "ed3c1a51",
   "metadata": {},
   "outputs": [],
   "source": [
    "import numpy as np"
   ]
  },
  {
   "cell_type": "markdown",
   "id": "26820013",
   "metadata": {},
   "source": [
    "- `np.column_stack((tuple) of [list])`: 전달받은 list를 일렬로 세운 다음 차례대로 나란히 연결"
   ]
  },
  {
   "cell_type": "code",
   "execution_count": 3,
   "id": "ab62ee17",
   "metadata": {},
   "outputs": [
    {
     "data": {
      "text/plain": [
       "array([[1, 4],\n",
       "       [2, 5],\n",
       "       [3, 6]])"
      ]
     },
     "execution_count": 3,
     "metadata": {},
     "output_type": "execute_result"
    }
   ],
   "source": [
    "np.column_stack(([1, 2, 3], [4, 5, 6]))"
   ]
  },
  {
   "cell_type": "code",
   "execution_count": 4,
   "id": "32c80273",
   "metadata": {},
   "outputs": [
    {
     "data": {
      "text/plain": [
       "array([[ 25.4, 242. ],\n",
       "       [ 26.3, 290. ],\n",
       "       [ 26.5, 340. ],\n",
       "       [ 29. , 363. ],\n",
       "       [ 29. , 430. ]])"
      ]
     },
     "execution_count": 4,
     "metadata": {},
     "output_type": "execute_result"
    }
   ],
   "source": [
    "fish_data = np.column_stack((fish_length, fish_weight))\n",
    "\n",
    "fish_data[:5]"
   ]
  },
  {
   "cell_type": "code",
   "execution_count": 5,
   "id": "44021152",
   "metadata": {},
   "outputs": [
    {
     "data": {
      "text/plain": [
       "array([1., 1., 1., 1., 1., 1., 1., 1., 1., 1., 1., 1., 1., 1., 1., 1., 1.,\n",
       "       1., 1., 1., 1., 1., 1., 1., 1., 1., 1., 1., 1., 1., 1., 1., 1., 1.,\n",
       "       1., 0., 0., 0., 0., 0., 0., 0., 0., 0., 0., 0., 0., 0., 0.])"
      ]
     },
     "execution_count": 5,
     "metadata": {},
     "output_type": "execute_result"
    }
   ],
   "source": [
    "fish_target = np.concatenate((np.ones(35), np.zeros(14)))\n",
    "\n",
    "fish_target"
   ]
  },
  {
   "cell_type": "code",
   "execution_count": 6,
   "id": "6763e7f6",
   "metadata": {},
   "outputs": [],
   "source": [
    "from sklearn.model_selection import train_test_split\n",
    "\n",
    "train_input, test_input, train_target, test_target = train_test_split(\n",
    "    fish_data, fish_target, random_state=814\n",
    ")"
   ]
  },
  {
   "cell_type": "markdown",
   "id": "4c659a1c",
   "metadata": {},
   "source": [
    "- 입력 data 크기 확인"
   ]
  },
  {
   "cell_type": "code",
   "execution_count": 7,
   "id": "403c572e",
   "metadata": {},
   "outputs": [
    {
     "data": {
      "text/plain": [
       "((36, 2), (13, 2))"
      ]
     },
     "execution_count": 7,
     "metadata": {},
     "output_type": "execute_result"
    }
   ],
   "source": [
    "train_input.shape, test_input.shape"
   ]
  },
  {
   "cell_type": "code",
   "execution_count": 8,
   "id": "845c71fb",
   "metadata": {},
   "outputs": [
    {
     "data": {
      "text/plain": [
       "((36,), (13,))"
      ]
     },
     "execution_count": 8,
     "metadata": {},
     "output_type": "execute_result"
    }
   ],
   "source": [
    "train_target.shape, test_target.shape"
   ]
  },
  {
   "cell_type": "code",
   "execution_count": 9,
   "id": "0d492e88",
   "metadata": {},
   "outputs": [
    {
     "data": {
      "text/plain": [
       "array([0., 1., 1., 0., 1., 0., 0., 1., 1., 1., 1., 1., 1.])"
      ]
     },
     "execution_count": 9,
     "metadata": {},
     "output_type": "execute_result"
    }
   ],
   "source": [
    "test_target"
   ]
  },
  {
   "cell_type": "markdown",
   "id": "0a86440a",
   "metadata": {},
   "source": [
    "- 무작위로 데이터 나누었을때: 샘플링 편향 발생할 수 있다!\n",
    "    \n",
    "    - `stratify` parameter: target data 전달 $\\rightarrow$ class 비율에 맞게 split data"
   ]
  },
  {
   "cell_type": "code",
   "execution_count": 10,
   "id": "2d17c9f7",
   "metadata": {},
   "outputs": [
    {
     "data": {
      "text/plain": [
       "array([1., 0., 1., 0., 1., 1., 1., 1., 1., 0., 1., 1., 0.])"
      ]
     },
     "execution_count": 10,
     "metadata": {},
     "output_type": "execute_result"
    }
   ],
   "source": [
    "train_input, test_input, train_target, test_target = train_test_split(\n",
    "    fish_data, fish_target, stratify=fish_target, random_state=814\n",
    ")\n",
    "\n",
    "test_target"
   ]
  },
  {
   "cell_type": "markdown",
   "id": "8e3b4616",
   "metadata": {},
   "source": [
    "## Training Model"
   ]
  },
  {
   "cell_type": "code",
   "execution_count": 11,
   "id": "7671e409",
   "metadata": {},
   "outputs": [
    {
     "data": {
      "text/plain": [
       "KNeighborsClassifier()"
      ]
     },
     "execution_count": 11,
     "metadata": {},
     "output_type": "execute_result"
    }
   ],
   "source": [
    "from sklearn.neighbors import KNeighborsClassifier\n",
    "\n",
    "kn = KNeighborsClassifier()\n",
    "kn.fit(train_input, train_target)"
   ]
  },
  {
   "cell_type": "markdown",
   "id": "04211da4",
   "metadata": {},
   "source": [
    "## Evaluating Model"
   ]
  },
  {
   "cell_type": "code",
   "execution_count": 12,
   "id": "fcf207cd",
   "metadata": {},
   "outputs": [
    {
     "name": "stderr",
     "output_type": "stream",
     "text": [
      "C:\\Users\\EthanJ\\anaconda3\\lib\\site-packages\\sklearn\\neighbors\\_classification.py:228: FutureWarning: Unlike other reduction functions (e.g. `skew`, `kurtosis`), the default behavior of `mode` typically preserves the axis it acts along. In SciPy 1.11.0, this behavior will change: the default value of `keepdims` will become False, the `axis` over which the statistic is taken will be eliminated, and the value None will no longer be accepted. Set `keepdims` to True or False to avoid this warning.\n",
      "  mode, _ = stats.mode(_y[neigh_ind, k], axis=1)\n"
     ]
    },
    {
     "data": {
      "text/plain": [
       "1.0"
      ]
     },
     "execution_count": 12,
     "metadata": {},
     "output_type": "execute_result"
    }
   ],
   "source": [
    "kn.score(test_input, test_target)"
   ]
  },
  {
   "cell_type": "markdown",
   "id": "e9cef6d0",
   "metadata": {},
   "source": [
    "## Additional Data"
   ]
  },
  {
   "cell_type": "code",
   "execution_count": 13,
   "id": "26bbb004",
   "metadata": {},
   "outputs": [],
   "source": [
    "sample = [25, 150]"
   ]
  },
  {
   "cell_type": "code",
   "execution_count": 14,
   "id": "089fb8c4",
   "metadata": {},
   "outputs": [
    {
     "name": "stderr",
     "output_type": "stream",
     "text": [
      "C:\\Users\\EthanJ\\anaconda3\\lib\\site-packages\\sklearn\\neighbors\\_classification.py:228: FutureWarning: Unlike other reduction functions (e.g. `skew`, `kurtosis`), the default behavior of `mode` typically preserves the axis it acts along. In SciPy 1.11.0, this behavior will change: the default value of `keepdims` will become False, the `axis` over which the statistic is taken will be eliminated, and the value None will no longer be accepted. Set `keepdims` to True or False to avoid this warning.\n",
      "  mode, _ = stats.mode(_y[neigh_ind, k], axis=1)\n"
     ]
    },
    {
     "data": {
      "text/plain": [
       "array([0.])"
      ]
     },
     "execution_count": 14,
     "metadata": {},
     "output_type": "execute_result"
    }
   ],
   "source": [
    "kn.predict([sample])"
   ]
  },
  {
   "cell_type": "markdown",
   "id": "770382cf",
   "metadata": {},
   "source": [
    "### scatter plot"
   ]
  },
  {
   "cell_type": "code",
   "execution_count": 15,
   "id": "e97eae15",
   "metadata": {},
   "outputs": [
    {
     "data": {
      "image/png": "[encoded data removed]",
      "text/plain": [
       "<Figure size 640x480 with 1 Axes>"
      ]
     },
     "metadata": {},
     "output_type": "display_data"
    }
   ],
   "source": [
    "import matplotlib.pyplot as plt\n",
    "\n",
    "plt.scatter(train_input[:, 0], train_input[:, 1])\n",
    "plt.scatter(sample[0], sample[1], marker='^')\n",
    "\n",
    "plt.xlabel('length')\n",
    "plt.ylabel('weight')\n",
    "\n",
    "plt.show()"
   ]
  },
  {
   "cell_type": "markdown",
   "id": "4243dc58",
   "metadata": {},
   "source": [
    "- scatter plot상으로 도미 데이터(1)에 가깝게 보임 $\\rightarrow$ model은 빙어 데이터(0)으로 판단\n",
    "\n",
    "    - k-NN 알고리즘은 주변의 sample중에서 다수의 class를 predict로 사용\n",
    "    \n",
    "        - `kneighbors()`: 이웃까지 distance와 이웃 sample의 index를 반환하는 method > defualt 5개의 이웃 data"
   ]
  },
  {
   "cell_type": "code",
   "execution_count": 16,
   "id": "8d4bd4d6",
   "metadata": {},
   "outputs": [],
   "source": [
    "distances, indices = kn.kneighbors([sample])"
   ]
  },
  {
   "cell_type": "code",
   "execution_count": 17,
   "id": "6b6f5844",
   "metadata": {},
   "outputs": [
    {
     "data": {
      "image/png": "[encoded data removed]",
      "text/plain": [
       "<Figure size 640x480 with 1 Axes>"
      ]
     },
     "metadata": {},
     "output_type": "display_data"
    }
   ],
   "source": [
    "plt.scatter(train_input[:, 0], train_input[:, 1])\n",
    "plt.scatter(sample[0], sample[1], marker='^')\n",
    "plt.scatter(train_input[indices, 0], train_input[indices, 1], marker='D')\n",
    "\n",
    "plt.xlabel('length')\n",
    "plt.ylabel('weight')\n",
    "\n",
    "plt.show()"
   ]
  },
  {
   "cell_type": "markdown",
   "id": "4c166d03",
   "metadata": {},
   "source": [
    "- 가장 가까운 이웃에 빙어 data 5개 인식됨"
   ]
  },
  {
   "cell_type": "code",
   "execution_count": 18,
   "id": "c838f254",
   "metadata": {},
   "outputs": [
    {
     "data": {
      "text/plain": [
       "array([[[15. , 19.9],\n",
       "        [14.3, 19.7],\n",
       "        [12.4, 13.4],\n",
       "        [13. , 12.2],\n",
       "        [12.2, 12.2]]])"
      ]
     },
     "execution_count": 18,
     "metadata": {},
     "output_type": "execute_result"
    }
   ],
   "source": [
    "train_input[indices]"
   ]
  },
  {
   "cell_type": "code",
   "execution_count": 19,
   "id": "1493690e",
   "metadata": {},
   "outputs": [
    {
     "data": {
      "text/plain": [
       "array([[0., 0., 0., 0., 0.]])"
      ]
     },
     "execution_count": 19,
     "metadata": {},
     "output_type": "execute_result"
    }
   ],
   "source": [
    "train_target[indices]"
   ]
  },
  {
   "cell_type": "markdown",
   "id": "7895f173",
   "metadata": {},
   "source": [
    "- 그렇다면 `distances` 배열에는 어떤 data?"
   ]
  },
  {
   "cell_type": "code",
   "execution_count": 20,
   "id": "19eca51d",
   "metadata": {},
   "outputs": [
    {
     "data": {
      "text/plain": [
       "array([[130.48375378, 130.73859415, 137.17988191, 138.32150953,\n",
       "        138.39320793]])"
      ]
     },
     "execution_count": 20,
     "metadata": {},
     "output_type": "execute_result"
    }
   ],
   "source": [
    "distances"
   ]
  },
  {
   "cell_type": "markdown",
   "id": "887d1e73",
   "metadata": {},
   "source": [
    "- 그래프상의 x축 범위(10 ~ 40)과 y축 범위(0 ~ 1000)가 엄청난 차이를 가진다!\n",
    "\n",
    "    - y축으로 조금만 멀어져도 거리가 아주 큰 값으로 나온다\n",
    "    \n",
    "        - x축 범위를 y축 범위와 동일하게 지정한다면?"
   ]
  },
  {
   "cell_type": "code",
   "execution_count": 21,
   "id": "ec96510e",
   "metadata": {},
   "outputs": [
    {
     "data": {
      "image/png": "[encoded data removed]",
      "text/plain": [
       "<Figure size 640x480 with 1 Axes>"
      ]
     },
     "metadata": {},
     "output_type": "display_data"
    }
   ],
   "source": [
    "plt.scatter(train_input[:, 0], train_input[:, 1])\n",
    "plt.scatter(sample[0], sample[1], marker='^')\n",
    "plt.scatter(train_input[indices, 0], train_input[indices, 1], marker='D')\n",
    "\n",
    "plt.xlim((0, 1000))\n",
    "\n",
    "plt.xlabel('length')\n",
    "plt.ylabel('weight')\n",
    "\n",
    "plt.show()"
   ]
  },
  {
   "cell_type": "markdown",
   "id": "6550dac5",
   "metadata": {},
   "source": [
    "- scatter plot이 거의 일직선으로 나타남 $\\rightarrow$ x축보다 y축의 data가 classifier의 중요한 기준\n",
    "\n",
    "    - 두 feature의 값이 놓인 범위가 다르다 == 두 feature의 `scale`이 다르다\n",
    "    \n",
    "        - 데이터를 표현하는 기준이 다르다 $\\rightarrow$ 알고리즘의 예측력 하락, 특히 k-NN같은 거리 기반 알고리즘"
   ]
  },
  {
   "cell_type": "markdown",
   "id": "9243833f",
   "metadata": {},
   "source": [
    "## 데이터 전처리:Data Preprocessing\n",
    "> 특성값(features)을 일정한 기준으로 맞춰주는 작업"
   ]
  },
  {
   "cell_type": "markdown",
   "id": "18ea08cb",
   "metadata": {},
   "source": [
    "- 가장 널리 사용하는 전처리 방법 중 하나: 표준점수(standard score, z-score)\n",
    "    \n",
    "    >  표준점수:  각 feature value($x$)가 평균($\\mu$)에서 표준편차($\\sigma$)의 몇 배만큼 떨어져 있는지 나타내는 값    \n",
    "    - $ z = \\frac{x - \\mu}{\\sigma} $"
   ]
  },
  {
   "cell_type": "code",
   "execution_count": 22,
   "id": "706867d4",
   "metadata": {},
   "outputs": [
    {
     "data": {
      "text/plain": [
       "(array([ 27.50277778, 465.35833333]), array([ 10.11474408, 327.27354459]))"
      ]
     },
     "execution_count": 22,
     "metadata": {},
     "output_type": "execute_result"
    }
   ],
   "source": [
    "mean = np.mean(train_input, axis=0)\n",
    "std = np.std(train_input, axis=0)\n",
    "\n",
    "mean, std"
   ]
  },
  {
   "cell_type": "code",
   "execution_count": 23,
   "id": "b3cd0f99",
   "metadata": {},
   "outputs": [
    {
     "data": {
      "text/plain": [
       "array([[ 0.74121719,  0.6558479 ],\n",
       "       [ 0.59291883,  0.56418146],\n",
       "       [-1.23609433, -1.36111929],\n",
       "       [ 0.74121719,  0.79334756],\n",
       "       [ 0.64235162,  0.67112564],\n",
       "       [ 0.31609522,  0.10584927],\n",
       "       [ 0.14802374, -0.31276079],\n",
       "       [ 0.93894835,  1.63362324],\n",
       "       [-1.51291794, -1.38464701],\n",
       "       [ 0.34575489,  0.10584927]])"
      ]
     },
     "execution_count": 23,
     "metadata": {},
     "output_type": "execute_result"
    }
   ],
   "source": [
    "train_z_scaled = (train_input - mean) / std\n",
    "\n",
    "train_z_scaled[:10]"
   ]
  },
  {
   "cell_type": "markdown",
   "id": "9e05447f",
   "metadata": {},
   "source": [
    "## Training Model"
   ]
  },
  {
   "cell_type": "markdown",
   "id": "b350c5a2",
   "metadata": {},
   "source": [
    "### scatter plot"
   ]
  },
  {
   "cell_type": "code",
   "execution_count": 24,
   "id": "277ca004",
   "metadata": {},
   "outputs": [
    {
     "data": {
      "image/png": "[encoded data removed]",
      "text/plain": [
       "<Figure size 640x480 with 1 Axes>"
      ]
     },
     "metadata": {},
     "output_type": "display_data"
    }
   ],
   "source": [
    "plt.scatter(train_z_scaled[:, 0], train_z_scaled[:, 1])\n",
    "plt.scatter(sample[0], sample[1], marker='^')\n",
    "\n",
    "plt.xlabel('length')\n",
    "plt.ylabel('weight')\n",
    "\n",
    "plt.show()"
   ]
  },
  {
   "cell_type": "markdown",
   "id": "e05e9559",
   "metadata": {},
   "source": [
    "- 추가된 sample을 전처리 하지 않았기 때문에 제대로 scaled 되지 않음"
   ]
  },
  {
   "cell_type": "code",
   "execution_count": 29,
   "id": "269cea9c",
   "metadata": {},
   "outputs": [
    {
     "data": {
      "image/png": "[encoded data removed]",
      "text/plain": [
       "<Figure size 640x480 with 1 Axes>"
      ]
     },
     "metadata": {},
     "output_type": "display_data"
    }
   ],
   "source": [
    "sample = (sample - mean) / std\n",
    "\n",
    "plt.scatter(train_z_scaled[:, 0], train_z_scaled[:, 1])\n",
    "plt.scatter(sample[0], sample[1], marker='^')\n",
    "\n",
    "plt.xlabel('length')\n",
    "plt.ylabel('weight')\n",
    "\n",
    "plt.show()"
   ]
  },
  {
   "cell_type": "code",
   "execution_count": 31,
   "id": "8ba2eec3",
   "metadata": {},
   "outputs": [
    {
     "data": {
      "text/plain": [
       "KNeighborsClassifier()"
      ]
     },
     "execution_count": 31,
     "metadata": {},
     "output_type": "execute_result"
    }
   ],
   "source": [
    "kn.fit(train_z_scaled, train_target)"
   ]
  },
  {
   "cell_type": "code",
   "execution_count": 32,
   "id": "134fef1b",
   "metadata": {},
   "outputs": [],
   "source": [
    "test_scaled = (test_input - mean) / std"
   ]
  },
  {
   "cell_type": "code",
   "execution_count": 33,
   "id": "4a724cf0",
   "metadata": {},
   "outputs": [
    {
     "name": "stderr",
     "output_type": "stream",
     "text": [
      "C:\\Users\\EthanJ\\anaconda3\\lib\\site-packages\\sklearn\\neighbors\\_classification.py:228: FutureWarning: Unlike other reduction functions (e.g. `skew`, `kurtosis`), the default behavior of `mode` typically preserves the axis it acts along. In SciPy 1.11.0, this behavior will change: the default value of `keepdims` will become False, the `axis` over which the statistic is taken will be eliminated, and the value None will no longer be accepted. Set `keepdims` to True or False to avoid this warning.\n",
      "  mode, _ = stats.mode(_y[neigh_ind, k], axis=1)\n"
     ]
    },
    {
     "data": {
      "text/plain": [
       "1.0"
      ]
     },
     "execution_count": 33,
     "metadata": {},
     "output_type": "execute_result"
    }
   ],
   "source": [
    "kn.score(test_scaled, test_target)"
   ]
  },
  {
   "cell_type": "code",
   "execution_count": 34,
   "id": "353ee8da",
   "metadata": {},
   "outputs": [
    {
     "name": "stderr",
     "output_type": "stream",
     "text": [
      "C:\\Users\\EthanJ\\anaconda3\\lib\\site-packages\\sklearn\\neighbors\\_classification.py:228: FutureWarning: Unlike other reduction functions (e.g. `skew`, `kurtosis`), the default behavior of `mode` typically preserves the axis it acts along. In SciPy 1.11.0, this behavior will change: the default value of `keepdims` will become False, the `axis` over which the statistic is taken will be eliminated, and the value None will no longer be accepted. Set `keepdims` to True or False to avoid this warning.\n",
      "  mode, _ = stats.mode(_y[neigh_ind, k], axis=1)\n"
     ]
    },
    {
     "data": {
      "text/plain": [
       "array([1.])"
      ]
     },
     "execution_count": 34,
     "metadata": {},
     "output_type": "execute_result"
    }
   ],
   "source": [
    "kn.predict([sample])"
   ]
  },
  {
   "cell_type": "markdown",
   "id": "b10f1f52",
   "metadata": {},
   "source": [
    "### k-NN 최근접 이웃 산점도"
   ]
  },
  {
   "cell_type": "code",
   "execution_count": 35,
   "id": "fb914a6c",
   "metadata": {},
   "outputs": [
    {
     "data": {
      "image/png": "[encoded data removed]",
      "text/plain": [
       "<Figure size 640x480 with 1 Axes>"
      ]
     },
     "metadata": {},
     "output_type": "display_data"
    }
   ],
   "source": [
    "distances, indices = kn.kneighbors([sample])\n",
    "\n",
    "plt.scatter(train_z_scaled[:, 0], train_z_scaled[:, 1])\n",
    "plt.scatter(sample[0], sample[1], marker='^')\n",
    "plt.scatter(train_z_scaled[indices, 0], train_z_scaled[indices, 1], marker='D')\n",
    "\n",
    "plt.xlabel('length')\n",
    "plt.ylabel('weight')\n",
    "\n",
    "plt.show()"
   ]
  }
 ],
 "metadata": {
  "kernelspec": {
   "display_name": "Python 3 (ipykernel)",
   "language": "python",
   "name": "python3"
  },
  "language_info": {
   "codemirror_mode": {
    "name": "ipython",
    "version": 3
   },
   "file_extension": ".py",
   "mimetype": "text/x-python",
   "name": "python",
   "nbconvert_exporter": "python",
   "pygments_lexer": "ipython3",
   "version": "3.9.13"
  }
 },
 "nbformat": 4,
 "nbformat_minor": 5
}
